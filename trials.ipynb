{
 "cells": [
  {
   "cell_type": "code",
   "execution_count": 2,
   "id": "456eb6b0",
   "metadata": {},
   "outputs": [],
   "source": [
    "import random\n",
    "import numpy as np"
   ]
  },
  {
   "cell_type": "code",
   "execution_count": 3,
   "id": "4275c174",
   "metadata": {},
   "outputs": [],
   "source": [
    "def randpair():\n",
    "    return (random.randrange(4), random.randrange(4))"
   ]
  },
  {
   "cell_type": "code",
   "execution_count": 4,
   "id": "2764de57",
   "metadata": {},
   "outputs": [
    {
     "data": {
      "text/plain": [
       "((3, 2), (0, 0))"
      ]
     },
     "execution_count": 4,
     "metadata": {},
     "output_type": "execute_result"
    }
   ],
   "source": [
    "pred_locs = tuple([randpair() for _ in range(2)])\n",
    "pred_locs"
   ]
  },
  {
   "cell_type": "code",
   "execution_count": 5,
   "id": "1885ba80",
   "metadata": {},
   "outputs": [
    {
     "data": {
      "text/plain": [
       "(0, 0)"
      ]
     },
     "execution_count": 5,
     "metadata": {},
     "output_type": "execute_result"
    }
   ],
   "source": [
    "pred_locs[1]"
   ]
  },
  {
   "cell_type": "code",
   "execution_count": 6,
   "id": "e8a74ace",
   "metadata": {},
   "outputs": [],
   "source": [
    "prey_loc = randpair()"
   ]
  },
  {
   "cell_type": "code",
   "execution_count": 7,
   "id": "e7b056e3",
   "metadata": {},
   "outputs": [
    {
     "data": {
      "text/plain": [
       "(0, 3)"
      ]
     },
     "execution_count": 7,
     "metadata": {},
     "output_type": "execute_result"
    }
   ],
   "source": [
    "prey_loc"
   ]
  },
  {
   "cell_type": "code",
   "execution_count": 22,
   "id": "8d08cc40",
   "metadata": {},
   "outputs": [
    {
     "data": {
      "text/plain": [
       "[(0, 3), (0, 0)]"
      ]
     },
     "execution_count": 22,
     "metadata": {},
     "output_type": "execute_result"
    }
   ],
   "source": [
    "list(pred_locs)"
   ]
  },
  {
   "cell_type": "code",
   "execution_count": 10,
   "id": "dfdbb9fe",
   "metadata": {},
   "outputs": [
    {
     "data": {
      "text/plain": [
       "-2314622206226690504"
      ]
     },
     "execution_count": 10,
     "metadata": {},
     "output_type": "execute_result"
    }
   ],
   "source": [
    "hash(((5,2), (5,2)))"
   ]
  },
  {
   "cell_type": "code",
   "execution_count": 7,
   "id": "f6bd95b1",
   "metadata": {},
   "outputs": [
    {
     "data": {
      "text/plain": [
       "-5838399773923454241"
      ]
     },
     "execution_count": 7,
     "metadata": {},
     "output_type": "execute_result"
    }
   ],
   "source": [
    "hash((5,2))"
   ]
  },
  {
   "cell_type": "code",
   "execution_count": 8,
   "id": "7c34260b",
   "metadata": {},
   "outputs": [
    {
     "data": {
      "text/plain": [
       "True"
      ]
     },
     "execution_count": 8,
     "metadata": {},
     "output_type": "execute_result"
    }
   ],
   "source": [
    "hash((5,2)) == hash((5,2))"
   ]
  },
  {
   "cell_type": "code",
   "execution_count": 13,
   "id": "2bb2994f",
   "metadata": {},
   "outputs": [],
   "source": [
    "Q=  {}\n",
    "ACTIONS = [0, 1, 2, 3]\n",
    "h = hash(((1,2), (3,4)))\n",
    "Q[h] = [0.001 for a in ACTIONS]"
   ]
  },
  {
   "cell_type": "code",
   "execution_count": 16,
   "id": "569628fb",
   "metadata": {},
   "outputs": [
    {
     "data": {
      "text/plain": [
       "{-1467267874458550984: [0.001, 0.001, 0.2, 0.001]}"
      ]
     },
     "execution_count": 16,
     "metadata": {},
     "output_type": "execute_result"
    }
   ],
   "source": [
    "Q[h][2] = 0.2\n",
    "Q"
   ]
  },
  {
   "cell_type": "code",
   "execution_count": 17,
   "id": "78e683bb",
   "metadata": {},
   "outputs": [
    {
     "data": {
      "text/plain": [
       "2"
      ]
     },
     "execution_count": 17,
     "metadata": {},
     "output_type": "execute_result"
    }
   ],
   "source": [
    "np.argmax(Q[h])"
   ]
  },
  {
   "cell_type": "code",
   "execution_count": 21,
   "id": "c62ae55c",
   "metadata": {},
   "outputs": [
    {
     "data": {
      "text/plain": [
       "False"
      ]
     },
     "execution_count": 21,
     "metadata": {},
     "output_type": "execute_result"
    }
   ],
   "source": [
    "not 1.5"
   ]
  },
  {
   "cell_type": "code",
   "execution_count": null,
   "id": "a9d946e3",
   "metadata": {},
   "outputs": [],
   "source": [
    "def randpair():\n",
    "        return (random.randrange(4), random.randrange(4))"
   ]
  },
  {
   "cell_type": "code",
   "execution_count": 8,
   "id": "5cc9e9d0",
   "metadata": {},
   "outputs": [],
   "source": [
    "pred_locs = tuple([randpair() for _ in range(1)]) # each el is a tuple with the coordinates \n",
    "prey_loc = tuple([randpair()]) # single tuple with prey coordinates"
   ]
  },
  {
   "cell_type": "code",
   "execution_count": 9,
   "id": "100822bf",
   "metadata": {},
   "outputs": [
    {
     "data": {
      "text/plain": [
       "((0, 1),)"
      ]
     },
     "execution_count": 9,
     "metadata": {},
     "output_type": "execute_result"
    }
   ],
   "source": [
    "pred_locs"
   ]
  },
  {
   "cell_type": "code",
   "execution_count": 11,
   "id": "17e5f783",
   "metadata": {},
   "outputs": [],
   "source": [
    "pred_locs = prey_loc"
   ]
  },
  {
   "cell_type": "code",
   "execution_count": 12,
   "id": "fa616c90",
   "metadata": {},
   "outputs": [
    {
     "data": {
      "text/plain": [
       "((3, 1),)"
      ]
     },
     "execution_count": 12,
     "metadata": {},
     "output_type": "execute_result"
    }
   ],
   "source": [
    "prey_loc"
   ]
  },
  {
   "cell_type": "code",
   "execution_count": 13,
   "id": "0102cd38",
   "metadata": {},
   "outputs": [
    {
     "data": {
      "text/plain": [
       "((3, 1),)"
      ]
     },
     "execution_count": 13,
     "metadata": {},
     "output_type": "execute_result"
    }
   ],
   "source": [
    "pred_locs"
   ]
  },
  {
   "cell_type": "code",
   "execution_count": 14,
   "id": "2f03d593",
   "metadata": {},
   "outputs": [
    {
     "data": {
      "text/plain": [
       "True"
      ]
     },
     "execution_count": 14,
     "metadata": {},
     "output_type": "execute_result"
    }
   ],
   "source": [
    "pred_locs == prey_loc"
   ]
  },
  {
   "cell_type": "code",
   "execution_count": 27,
   "id": "db69606d",
   "metadata": {},
   "outputs": [
    {
     "data": {
      "text/plain": [
       "(-2, 0)"
      ]
     },
     "execution_count": 27,
     "metadata": {},
     "output_type": "execute_result"
    }
   ],
   "source": [
    "rel_pos = (pred_locs[0][0] - prey_loc[0][0], pred_locs[0][1] - prey_loc[0][1])\n",
    "rel_pos"
   ]
  },
  {
   "cell_type": "code",
   "execution_count": null,
   "id": "a4a2a297",
   "metadata": {},
   "outputs": [],
   "source": []
  },
  {
   "cell_type": "code",
   "execution_count": null,
   "id": "9ef4cb6e",
   "metadata": {},
   "outputs": [],
   "source": []
  },
  {
   "cell_type": "code",
   "execution_count": 21,
   "id": "460c3c4d",
   "metadata": {},
   "outputs": [],
   "source": [
    "grid = [[\" \"] * 10 for _ in range(10)]"
   ]
  },
  {
   "cell_type": "code",
   "execution_count": 22,
   "id": "6f9668b7",
   "metadata": {},
   "outputs": [
    {
     "data": {
      "text/plain": [
       "[[' ', ' ', ' ', ' ', ' ', ' ', ' ', ' ', ' ', ' '],\n",
       " [' ', ' ', ' ', ' ', ' ', ' ', ' ', ' ', ' ', ' '],\n",
       " [' ', ' ', ' ', ' ', ' ', ' ', ' ', ' ', ' ', ' '],\n",
       " [' ', ' ', ' ', ' ', ' ', ' ', ' ', ' ', ' ', ' '],\n",
       " [' ', ' ', ' ', ' ', ' ', ' ', ' ', ' ', ' ', ' '],\n",
       " [' ', ' ', ' ', ' ', ' ', ' ', ' ', ' ', ' ', ' '],\n",
       " [' ', ' ', ' ', ' ', ' ', ' ', ' ', ' ', ' ', ' '],\n",
       " [' ', ' ', ' ', ' ', ' ', ' ', ' ', ' ', ' ', ' '],\n",
       " [' ', ' ', ' ', ' ', ' ', ' ', ' ', ' ', ' ', ' '],\n",
       " [' ', ' ', ' ', ' ', ' ', ' ', ' ', ' ', ' ', ' ']]"
      ]
     },
     "execution_count": 22,
     "metadata": {},
     "output_type": "execute_result"
    }
   ],
   "source": [
    "grid"
   ]
  },
  {
   "cell_type": "code",
   "execution_count": null,
   "id": "5977a952",
   "metadata": {},
   "outputs": [],
   "source": [
    "p_ask = pow((1 + vp), -math.sqrt(self.preds[0].s_visits[h[0]]))"
   ]
  },
  {
   "cell_type": "code",
   "execution_count": 7,
   "id": "80b06ced",
   "metadata": {},
   "outputs": [
    {
     "data": {
      "text/plain": [
       "0.3333333333333333"
      ]
     },
     "execution_count": 7,
     "metadata": {},
     "output_type": "execute_result"
    }
   ],
   "source": [
    "import math\n",
    "vp = 0.7\n",
    "n_visits = 4\n",
    "pow(3, -math.sqrt(1))"
   ]
  },
  {
   "cell_type": "code",
   "execution_count": 8,
   "id": "2dbd024f",
   "metadata": {},
   "outputs": [
    {
     "data": {
      "text/plain": [
       "6.6"
      ]
     },
     "execution_count": 8,
     "metadata": {},
     "output_type": "execute_result"
    }
   ],
   "source": [
    "3.3*2"
   ]
  },
  {
   "cell_type": "markdown",
   "id": "c1c6011a",
   "metadata": {},
   "source": []
  },
  {
   "cell_type": "code",
   "execution_count": 10,
   "id": "cd547d45",
   "metadata": {},
   "outputs": [
    {
     "data": {
      "text/plain": [
       "2"
      ]
     },
     "execution_count": 10,
     "metadata": {},
     "output_type": "execute_result"
    }
   ],
   "source": [
    "a = 3\n",
    "a -= 1\n",
    "a"
   ]
  },
  {
   "cell_type": "code",
   "execution_count": 10,
   "id": "74ac1c7b",
   "metadata": {},
   "outputs": [
    {
     "data": {
      "text/plain": [
       "[(0, 1)]"
      ]
     },
     "execution_count": 10,
     "metadata": {},
     "output_type": "execute_result"
    }
   ],
   "source": [
    "prey_loc = tuple([(0,1)])\n",
    "prey_loc = list(prey_loc)\n",
    "prey_loc"
   ]
  },
  {
   "cell_type": "code",
   "execution_count": 2,
   "id": "3ac4cdea",
   "metadata": {},
   "outputs": [],
   "source": [
    "rel_pos = (5, 8)\n",
    "a = hash(rel_pos)"
   ]
  },
  {
   "cell_type": "code",
   "execution_count": 3,
   "id": "10d75aef",
   "metadata": {},
   "outputs": [
    {
     "ename": "AttributeError",
     "evalue": "'int' object has no attribute 'type'",
     "output_type": "error",
     "traceback": [
      "\u001b[1;31m---------------------------------------------------------------------------\u001b[0m",
      "\u001b[1;31mAttributeError\u001b[0m                            Traceback (most recent call last)",
      "\u001b[1;32mc:\\Users\\denal\\OneDrive - Politecnico di Milano\\4-Semestre\\SOAS\\SOAS_project\\trials.ipynb Cell 34'\u001b[0m in \u001b[0;36m<cell line: 1>\u001b[1;34m()\u001b[0m\n\u001b[1;32m----> <a href='vscode-notebook-cell:/c%3A/Users/denal/OneDrive%20-%20Politecnico%20di%20Milano/4-Semestre/SOAS/SOAS_project/trials.ipynb#ch0000033?line=0'>1</a>\u001b[0m a\u001b[39m.\u001b[39;49mtype()\n",
      "\u001b[1;31mAttributeError\u001b[0m: 'int' object has no attribute 'type'"
     ]
    }
   ],
   "source": [
    "a.type()"
   ]
  }
 ],
 "metadata": {
  "interpreter": {
   "hash": "36d75b5062f987c9e7ba7dabd942f5882c6585ba436eaaacd841dae5cd26965a"
  },
  "kernelspec": {
   "display_name": "Python 3 (ipykernel)",
   "language": "python",
   "name": "python3"
  },
  "language_info": {
   "codemirror_mode": {
    "name": "ipython",
    "version": 3
   },
   "file_extension": ".py",
   "mimetype": "text/x-python",
   "name": "python",
   "nbconvert_exporter": "python",
   "pygments_lexer": "ipython3",
   "version": "3.9.7"
  }
 },
 "nbformat": 4,
 "nbformat_minor": 5
}
