{
 "cells": [
  {
   "cell_type": "code",
   "execution_count": 1,
   "id": "456eb6b0",
   "metadata": {},
   "outputs": [],
   "source": [
    "import random\n",
    "import numpy as np"
   ]
  },
  {
   "cell_type": "code",
   "execution_count": 2,
   "id": "4275c174",
   "metadata": {},
   "outputs": [],
   "source": [
    "def randpair():\n",
    "    return (random.randrange(4), random.randrange(4))"
   ]
  },
  {
   "cell_type": "code",
   "execution_count": 23,
   "id": "2764de57",
   "metadata": {},
   "outputs": [
    {
     "data": {
      "text/plain": [
       "((3, 3), (0, 2))"
      ]
     },
     "execution_count": 23,
     "metadata": {},
     "output_type": "execute_result"
    }
   ],
   "source": [
    "pred_locs = tuple([randpair() for _ in range(2)])\n",
    "pred_locs"
   ]
  },
  {
   "cell_type": "code",
   "execution_count": 25,
   "id": "1885ba80",
   "metadata": {},
   "outputs": [
    {
     "data": {
      "text/plain": [
       "(0, 2)"
      ]
     },
     "execution_count": 25,
     "metadata": {},
     "output_type": "execute_result"
    }
   ],
   "source": [
    "pred_locs[1]"
   ]
  },
  {
   "cell_type": "code",
   "execution_count": 20,
   "id": "e8a74ace",
   "metadata": {},
   "outputs": [],
   "source": [
    "prey_loc = randpair()"
   ]
  },
  {
   "cell_type": "code",
   "execution_count": 21,
   "id": "e7b056e3",
   "metadata": {},
   "outputs": [
    {
     "data": {
      "text/plain": [
       "(3, 3)"
      ]
     },
     "execution_count": 21,
     "metadata": {},
     "output_type": "execute_result"
    }
   ],
   "source": [
    "prey_loc"
   ]
  },
  {
   "cell_type": "code",
   "execution_count": 22,
   "id": "8d08cc40",
   "metadata": {},
   "outputs": [
    {
     "data": {
      "text/plain": [
       "[(0, 3), (0, 0)]"
      ]
     },
     "execution_count": 22,
     "metadata": {},
     "output_type": "execute_result"
    }
   ],
   "source": [
    "list(pred_locs)"
   ]
  }
 ],
 "metadata": {
  "kernelspec": {
   "display_name": "Python 3 (ipykernel)",
   "language": "python",
   "name": "python3"
  },
  "language_info": {
   "codemirror_mode": {
    "name": "ipython",
    "version": 3
   },
   "file_extension": ".py",
   "mimetype": "text/x-python",
   "name": "python",
   "nbconvert_exporter": "python",
   "pygments_lexer": "ipython3",
   "version": "3.9.7"
  }
 },
 "nbformat": 4,
 "nbformat_minor": 5
}
